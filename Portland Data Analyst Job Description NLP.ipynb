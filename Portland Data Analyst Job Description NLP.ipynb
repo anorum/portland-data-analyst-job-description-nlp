{
 "cells": [
  {
   "cell_type": "raw",
   "metadata": {},
   "source": [
    "<script>\n",
    "  jQuery(document).ready(function($) {  \n",
    "  \n",
    "  $(window).on('load', function(){\n",
    "    $('#preloader').fadeOut('slow',function(){$(this).remove();});\n",
    "  });\n",
    "  \n",
    "  });\n",
    "</script>\n",
    "\n",
    "<style type=\"text/css\">\n",
    "  div#preloader { position: fixed; \n",
    "      left: 0; \n",
    "      top: 0; \n",
    "      z-index: 999; \n",
    "      width: 100%; \n",
    "      height: 100%; \n",
    "      overflow: visible; \n",
    "      background: #fff url('http://preloaders.net/preloaders/720/Moving%20line.gif') no-repeat center center; \n",
    "  }\n",
    "\n",
    "</style>\n",
    "\n",
    "<div id=\"preloader\">\n",
    "\n",
    "</div>"
   ]
  },
  {
   "cell_type": "raw",
   "metadata": {},
   "source": [
    "<script>\n",
    "  function code_toggle() {\n",
    "    if (code_shown){\n",
    "      $('div.input').hide('500');\n",
    "      $('#toggleButton').val('Show Code')\n",
    "    } else {\n",
    "      $('div.input').show('500');\n",
    "      $('#toggleButton').val('Hide Code')\n",
    "    }\n",
    "    code_shown = !code_shown\n",
    "  } \n",
    "  \n",
    "  $( document ).ready(function(){\n",
    "    code_shown=false; \n",
    "    $('div.input').hide()\n",
    "  });\n",
    "</script>\n",
    "<form action=\"javascript:code_toggle()\"><input type=\"submit\" id=\"toggleButton\" value=\"Show Code\"></form>\n",
    "<button onclick=\"window.location='http://www.alexnorum.com';\">Return to Website</button>"
   ]
  },
  {
   "cell_type": "markdown",
   "metadata": {},
   "source": [
    "# Portland Data Analyst Job Description Text Analytics"
   ]
  },
  {
   "cell_type": "markdown",
   "metadata": {},
   "source": [
    "Importing the libraries which are going to be used to perform a quick scrape of Glassdoor. I goal is to predict the salary of a job by using its job description. Next I want to look at which skills are most prevalent in job postings then look at how much each skills contributes to salary. "
   ]
  },
  {
   "cell_type": "code",
   "execution_count": 1,
   "metadata": {
    "ExecuteTime": {
     "end_time": "2018-12-14T21:11:00.199564Z",
     "start_time": "2018-12-14T21:11:00.187571Z"
    },
    "collapsed": true,
    "hide_input": false
   },
   "outputs": [],
   "source": [
    "import json\n",
    "import time\n",
    "import math\n",
    "import unicodecsv as csv\n",
    "from lxml import html, etree\n",
    "from glassdoor_scraper import get_job_posts\n",
    "import re\n",
    "import requests\n",
    "import bs4\n",
    "import pandas as pd\n",
    "import numpy as np\n",
    "import matplotlib\n",
    "import matplotlib.pyplot as plt\n",
    "import seaborn as sns\n",
    "%matplotlib inline\n",
    "matplotlib.style.use('fivethirtyeight')"
   ]
  },
  {
   "cell_type": "markdown",
   "metadata": {},
   "source": [
    "# Scraping our Job Posting Data"
   ]
  },
  {
   "cell_type": "code",
   "execution_count": 2,
   "metadata": {
    "ExecuteTime": {
     "end_time": "2018-12-14T21:11:01.979290Z",
     "start_time": "2018-12-14T21:11:01.975303Z"
    },
    "collapsed": true
   },
   "outputs": [],
   "source": [
    "# Set the keyword and location for Job and Location\n",
    "keyword = \"Data Analyst\"\n",
    "keyword = keyword.replace(\" \", '+')\n",
    "place = \"Portland\""
   ]
  },
  {
   "cell_type": "code",
   "execution_count": 3,
   "metadata": {
    "ExecuteTime": {
     "end_time": "2018-12-14T21:11:02.157346Z",
     "start_time": "2018-12-14T21:11:02.154375Z"
    },
    "collapsed": true
   },
   "outputs": [],
   "source": [
    "# jobs = get_job_posts(keyword, place)\n",
    "# jobs.to_csv('portland-senior-data-analysis.csv')"
   ]
  },
  {
   "cell_type": "markdown",
   "metadata": {},
   "source": [
    "Used get_job_posts to get 'Senior Data Analyst' roles in Portland, OR from Glassdoor. You can view the code for this scraper in the glassdoor.py file. "
   ]
  },
  {
   "cell_type": "code",
   "execution_count": 4,
   "metadata": {
    "ExecuteTime": {
     "end_time": "2018-12-14T21:11:02.603364Z",
     "start_time": "2018-12-14T21:11:02.564492Z"
    },
    "hide_input": false
   },
   "outputs": [
    {
     "name": "stdout",
     "output_type": "stream",
     "text": [
      "Shape: (240, 5)\n",
      "\n",
      "Null Count \n",
      " Company         0\n",
      "Job Title       0\n",
      "Location        0\n",
      "Salary         98\n",
      "Description     0\n",
      "dtype: int64\n"
     ]
    },
    {
     "data": {
      "text/html": [
       "<div>\n",
       "<style scoped>\n",
       "    .dataframe tbody tr th:only-of-type {\n",
       "        vertical-align: middle;\n",
       "    }\n",
       "\n",
       "    .dataframe tbody tr th {\n",
       "        vertical-align: top;\n",
       "    }\n",
       "\n",
       "    .dataframe thead th {\n",
       "        text-align: right;\n",
       "    }\n",
       "</style>\n",
       "<table border=\"1\" class=\"dataframe\">\n",
       "  <thead>\n",
       "    <tr style=\"text-align: right;\">\n",
       "      <th></th>\n",
       "      <th>Company</th>\n",
       "      <th>Job Title</th>\n",
       "      <th>Location</th>\n",
       "      <th>Salary</th>\n",
       "      <th>Description</th>\n",
       "    </tr>\n",
       "  </thead>\n",
       "  <tbody>\n",
       "    <tr>\n",
       "      <th>0</th>\n",
       "      <td>WSECU</td>\n",
       "      <td>Senior Marketing Analyst</td>\n",
       "      <td>Portland, OR</td>\n",
       "      <td>NaN</td>\n",
       "      <td>we look forward to reviewing your application...</td>\n",
       "    </tr>\n",
       "    <tr>\n",
       "      <th>1</th>\n",
       "      <td>Fisher Investments</td>\n",
       "      <td>Business Intelligence Data Analyst</td>\n",
       "      <td>Portland, OR</td>\n",
       "      <td>67000.0</td>\n",
       "      <td>job description overview the opportunity:  th...</td>\n",
       "    </tr>\n",
       "    <tr>\n",
       "      <th>2</th>\n",
       "      <td>Kongregate</td>\n",
       "      <td>Senior Data Analyst</td>\n",
       "      <td>Portland, OR</td>\n",
       "      <td>93000.0</td>\n",
       "      <td>the insights and analytics team is responsibl...</td>\n",
       "    </tr>\n",
       "    <tr>\n",
       "      <th>3</th>\n",
       "      <td>Nike</td>\n",
       "      <td>Senior Business Data Analyst</td>\n",
       "      <td>Beaverton, OR</td>\n",
       "      <td>98000.0</td>\n",
       "      <td>at nike, we serve athletes. fueled by the insi...</td>\n",
       "    </tr>\n",
       "    <tr>\n",
       "      <th>4</th>\n",
       "      <td>adidas</td>\n",
       "      <td>Data Analyst</td>\n",
       "      <td>Portland, OR</td>\n",
       "      <td>52000.0</td>\n",
       "      <td>purpose  the finance data analyst collects, an...</td>\n",
       "    </tr>\n",
       "  </tbody>\n",
       "</table>\n",
       "</div>"
      ],
      "text/plain": [
       "              Company                           Job Title       Location  \\\n",
       "0               WSECU            Senior Marketing Analyst   Portland, OR   \n",
       "1  Fisher Investments  Business Intelligence Data Analyst   Portland, OR   \n",
       "2          Kongregate                 Senior Data Analyst   Portland, OR   \n",
       "3                Nike        Senior Business Data Analyst  Beaverton, OR   \n",
       "4              adidas                        Data Analyst   Portland, OR   \n",
       "\n",
       "    Salary                                        Description  \n",
       "0      NaN   we look forward to reviewing your application...  \n",
       "1  67000.0   job description overview the opportunity:  th...  \n",
       "2  93000.0   the insights and analytics team is responsibl...  \n",
       "3  98000.0  at nike, we serve athletes. fueled by the insi...  \n",
       "4  52000.0  purpose  the finance data analyst collects, an...  "
      ]
     },
     "execution_count": 4,
     "metadata": {},
     "output_type": "execute_result"
    }
   ],
   "source": [
    "# Read csv into Pandas DF\n",
    "senior_jobs = pd.read_csv(\n",
    "    'portland-senior-data-analysis.csv', encoding='latin')\n",
    "\n",
    "# Replace the comma in the salary and convert to float\n",
    "senior_jobs['Salary'] = senior_jobs['Salary'].str.replace(\n",
    "    \",\", \"\").astype(float)\n",
    "\n",
    "# Drop Unnamed Index Column\n",
    "senior_jobs.drop(columns=['Unnamed: 0', 'Rating'], inplace=True)\n",
    "senior_jobs['Description'] = senior_jobs['Description'].str.lower()\n",
    "# Preview data\n",
    "print(f\"Shape: {senior_jobs.shape}\")\n",
    "print(f\"\\nNull Count \\n {senior_jobs.isnull().sum()}\")\n",
    "senior_jobs.head(5)"
   ]
  },
  {
   "cell_type": "markdown",
   "metadata": {},
   "source": [
    "# Exploratory Data Analysis"
   ]
  },
  {
   "cell_type": "markdown",
   "metadata": {},
   "source": [
    "## Mean Salary for Postings"
   ]
  },
  {
   "cell_type": "code",
   "execution_count": 5,
   "metadata": {
    "ExecuteTime": {
     "end_time": "2018-12-14T21:11:03.249684Z",
     "start_time": "2018-12-14T21:11:03.099060Z"
    }
   },
   "outputs": [
    {
     "data": {
      "image/png": "[encoded data removed]",
      "text/plain": [
       "<Figure size 720x360 with 1 Axes>"
      ]
     },
     "metadata": {
      "needs_background": "light"
     },
     "output_type": "display_data"
    },
    {
     "name": "stdout",
     "output_type": "stream",
     "text": [
      "Mean Salary : $84767.89\n",
      "Median Salary : $80000.0\n"
     ]
    }
   ],
   "source": [
    "fig = plt.figure(figsize=(10, 5))\n",
    "sns.distplot(senior_jobs['Salary'].dropna())\n",
    "plt.axvline(\n",
    "    round(np.mean(senior_jobs['Salary'].dropna()), 2), label='Mean', c='red')\n",
    "plt.axvline(\n",
    "    round(np.median(senior_jobs['Salary'].dropna()), 2), label='Median', c='green')\n",
    "plt.legend()\n",
    "plt.show()\n",
    "print(f\"Mean Salary : ${round(np.mean(senior_jobs['Salary'].dropna()),2)}\")\n",
    "print(f\"Median Salary : ${round(np.median(senior_jobs['Salary'].dropna()),2)}\")"
   ]
  },
  {
   "cell_type": "markdown",
   "metadata": {},
   "source": [
    "The mean salary for a Senior Analyst Job is about 85k a year. Compared to a median of 80k meaning our distribution is slightly positively skewed with a few outliers on the higher end. "
   ]
  },
  {
   "cell_type": "markdown",
   "metadata": {},
   "source": [
    "## Mean Salary by Company\n",
    "Who pays the the most on average?"
   ]
  },
  {
   "cell_type": "code",
   "execution_count": 6,
   "metadata": {
    "ExecuteTime": {
     "end_time": "2018-12-14T21:11:03.891494Z",
     "start_time": "2018-12-14T21:11:03.676095Z"
    }
   },
   "outputs": [
    {
     "data": {
      "image/png": "[encoded data removed]",
      "text/plain": [
       "<Figure size 720x720 with 1 Axes>"
      ]
     },
     "metadata": {
      "needs_background": "light"
     },
     "output_type": "display_data"
    }
   ],
   "source": [
    "senior_jobs.pivot_table(index=\"Company\", values=\"Salary\", aggfunc=\"mean\").dropna().sort_values(by=\"Salary\")[-20:]. \\\n",
    "    plot.barh(figsize=(10, 10), title='Top 10 Company by Mean Salary')\n",
    "plt.show()"
   ]
  },
  {
   "cell_type": "markdown",
   "metadata": {},
   "source": [
    "Looks like the highest paying companies are a mix between Tech, Insurance, and Consulting"
   ]
  },
  {
   "cell_type": "markdown",
   "metadata": {},
   "source": [
    "## Job Posting Count By Company\n",
    "Whos hiring the most positions?"
   ]
  },
  {
   "cell_type": "code",
   "execution_count": 7,
   "metadata": {
    "ExecuteTime": {
     "end_time": "2018-12-14T21:11:04.641422Z",
     "start_time": "2018-12-14T21:11:04.211549Z"
    },
    "scrolled": false
   },
   "outputs": [
    {
     "data": {
      "text/plain": [
       "<matplotlib.axes._subplots.AxesSubplot at 0x1e19f4c5d30>"
      ]
     },
     "execution_count": 7,
     "metadata": {},
     "output_type": "execute_result"
    },
    {
     "data": {
      "image/png": "[encoded data removed]",
      "text/plain": [
       "<Figure size 720x720 with 1 Axes>"
      ]
     },
     "metadata": {
      "needs_background": "light"
     },
     "output_type": "display_data"
    }
   ],
   "source": [
    "senior_jobs['Company'].value_counts()[senior_jobs['Company'].value_counts() > 1].sort_values(\n",
    ").plot.barh(figsize=(10, 10), title='Companies with more than 1 openings', color='#008FD5')"
   ]
  },
  {
   "cell_type": "markdown",
   "metadata": {},
   "source": [
    "Unsurprisingly the biggest companies in Oregon are hiring the most. Worksource is a employment contractor and do a lot of hiring the area for a wide variety of companies. Nike is second with nearly double the amount of posting as the next closest of consultant VanderHouwen and insurance company Providence.\n",
    "This aligns with the overall job market of Portland, OR."
   ]
  },
  {
   "cell_type": "markdown",
   "metadata": {},
   "source": [
    "# Cleaning Job Descriptions with NLTK\n",
    "Below are functions to remove stopwords, punctuation, and then lematize the words in the job descriptions. The reason we do this is to remove irrelevant information in hopes that we can get more concentrated job descriptions"
   ]
  },
  {
   "cell_type": "code",
   "execution_count": 8,
   "metadata": {
    "ExecuteTime": {
     "end_time": "2018-12-14T21:20:26.393727Z",
     "start_time": "2018-12-14T21:20:26.378798Z"
    },
    "collapsed": true
   },
   "outputs": [],
   "source": [
    "import nltk\n",
    "from nltk.tokenize import word_tokenize, RegexpTokenizer\n",
    "from nltk.corpus import stopwords\n",
    "from nltk import WordNetLemmatizer\n",
    "\n",
    "\n",
    "# Remove Common English words and common Job Description words that don't add much value\n",
    "\n",
    "def remove_stopwords(desc):\n",
    "    sw = set(stopwords.words('english'))\n",
    "\n",
    "    # Add stopwords that are common in job descriptions that provide much value\n",
    "    sw.update(['description', 'job', 'overview', 'employer', 'employee', 'experience', 'work', 'skills',\n",
    "               'analyst', 'analysis', 'position', 'years', 'required', 'preferred', 'new',\n",
    "               'team', 'business', 'information', 'ability', 'related', 'technical', 'data', 'requirements', 'management',\n",
    "               'including', 'strong', 'knowledge', 'provide', 'degree', 'bachelor', 'masters',\n",
    "               'multiple', 'teams', 'opportunity'])\n",
    "\n",
    "    return [item for item in desc if item not in sw]\n",
    "\n",
    "\n",
    "# Remove all punctuation from the job description\n",
    "def remove_punc(desc):\n",
    "    # Remove Punctuation\n",
    "    punctokenizer = RegexpTokenizer(r'\\w{3,}')\n",
    "    return punctokenizer.tokenize(desc)\n",
    "\n",
    "\n",
    "# Lemmatize the job descriptions\n",
    "def lem_desc(desc):\n",
    "    lem = WordNetLemmatizer()\n",
    "    lemdesc = []\n",
    "\n",
    "    for w in desc:\n",
    "        lemdesc.append(lem.lemmatize(w))\n",
    "\n",
    "    return lemdesc"
   ]
  },
  {
   "cell_type": "code",
   "execution_count": 9,
   "metadata": {
    "collapsed": true
   },
   "outputs": [],
   "source": [
    "# Apply our functions above\n",
    "descriptions = senior_jobs['Description'].apply(\n",
    "    remove_punc).apply(remove_stopwords).apply(lem_desc)"
   ]
  },
  {
   "cell_type": "markdown",
   "metadata": {},
   "source": [
    "## Looking at Bi-Grams to combine common words\n",
    "Lets use bigrams to look at words that are commonly shown together. I will take this approach as opposed to Part of Speech tagging and chunking, because there are specific skill combos I want to look at."
   ]
  },
  {
   "cell_type": "code",
   "execution_count": 10,
   "metadata": {
    "scrolled": true
   },
   "outputs": [
    {
     "data": {
      "text/plain": [
       "[(('health', 'care'), 124),\n",
       " (('national', 'origin'), 99),\n",
       " (('sexual', 'orientation'), 97),\n",
       " (('computer', 'science'), 91),\n",
       " (('supply', 'chain'), 90),\n",
       " (('problem', 'solving'), 82),\n",
       " (('veteran', 'status'), 79),\n",
       " (('without', 'regard'), 73),\n",
       " (('gender', 'identity'), 73),\n",
       " (('race', 'color'), 71),\n",
       " (('regard', 'race'), 68),\n",
       " (('cross', 'functional'), 68),\n",
       " (('qualified', 'applicant'), 64),\n",
       " (('orientation', 'gender'), 63),\n",
       " (('software', 'development'), 62),\n",
       " (('internal', 'external'), 61),\n",
       " (('receive', 'consideration'), 58),\n",
       " (('applicant', 'receive'), 57),\n",
       " (('color', 'religion'), 57),\n",
       " (('location', 'portland'), 53),\n",
       " (('consideration', 'employment'), 52),\n",
       " (('employment', 'without'), 52),\n",
       " (('essential', 'function'), 51),\n",
       " (('best', 'practice'), 50),\n",
       " (('decision', 'making'), 48),\n",
       " (('full', 'time'), 47),\n",
       " (('dental', 'vision'), 46),\n",
       " (('affirmative', 'action'), 45),\n",
       " (('protected', 'veteran'), 45),\n",
       " (('combination', 'education'), 44),\n",
       " (('religion', 'sex'), 44),\n",
       " (('long', 'term'), 42),\n",
       " (('minimum', 'qualification'), 41),\n",
       " (('veteran', 'preference'), 41),\n",
       " (('equivalent', 'combination'), 40),\n",
       " (('background', 'check'), 40),\n",
       " (('life', 'insurance'), 40),\n",
       " (('subject', 'matter'), 40),\n",
       " (('written', 'verbal'), 39),\n",
       " (('equal', 'employment'), 37),\n",
       " (('machine', 'learning'), 36),\n",
       " (('may', 'contact'), 36),\n",
       " (('policy', 'procedure'), 36),\n",
       " (('status', 'protected'), 36),\n",
       " (('medical', 'dental'), 36),\n",
       " (('open', 'filled'), 35),\n",
       " (('high', 'level'), 35),\n",
       " (('application', 'deadline'), 34),\n",
       " (('training', 'program'), 34),\n",
       " (('portland', 'oregon'), 34)]"
      ]
     },
     "execution_count": 10,
     "metadata": {},
     "output_type": "execute_result"
    }
   ],
   "source": [
    "# Create a flat list of all the job descriptions\n",
    "bg = [word for singledescription in descriptions.tolist()\n",
    "      for word in singledescription]\n",
    "\n",
    "# Create a bigram tuples and loop through them to show our most common 50 bigrams\n",
    "bgs = nltk.bigrams(bg)\n",
    "fdist = nltk.FreqDist(bgs)\n",
    "fdist.most_common(50)"
   ]
  },
  {
   "cell_type": "code",
   "execution_count": 11,
   "metadata": {
    "collapsed": true
   },
   "outputs": [],
   "source": [
    "# Using data above and knowledge to combine skill words\n",
    "def combine_skills(s):\n",
    "    s = s.replace(\"health care\", \"health_care\")\n",
    "    s = s.replace(\"software development\", \"software_development\")\n",
    "    s = s.replace(\"decision making\", \"decision_making\")\n",
    "    s = s.replace(\"customer service\", \"customer_service\")\n",
    "    s = s.replace(\"finance accounting\", \"accounting_finance\")\n",
    "    s = s.replace(\"accounting finance\", \"accounting_finance\")\n",
    "    s = s.replace(\"end user\", \"end_user\")\n",
    "    s = s.replace(\"business intelligence\", \"business_intelligence\")\n",
    "    s = s.replace(\" c \", \" c_plus_plus \")\n",
    "    s = s.replace(\"c++\", \"c_plus_plus\")\n",
    "    s = s.replace(\"ml\", \"machine_learning\")\n",
    "    s = s.replace(\"machine learning\", \"machine_learning\")\n",
    "    s = s.replace(\"amazon\", \"aws\")\n",
    "    s = s.replace(\"big data\", \"big_data\")\n",
    "    s = s.replace(\"statistical modeling\", \"statistics\")\n",
    "    s = s.replace(\"databases\", \"database\")\n",
    "    s = s.replace(\"communication\", \"communication_skills\")\n",
    "    s = s.replace(\"power bi\", \"power_bi\")\n",
    "    s = s.replace(\"google analytics\", \"google_analytics\")\n",
    "    s = s.replace(\"qlikview\", \"qlik\")\n",
    "    s = s.replace(\"ab testing\", \"ab_testing\")\n",
    "    s = s.replace(\"linear algebra\", \"linear_algebra\")\n",
    "    s = s.replace(\"jupyter\", \"jupyter_notebook\")\n",
    "    s = s.replace(\"problem solver\", \"problem_solving\")\n",
    "    s = s.replace(\"problem solving\", \"problem_solving\")\n",
    "    s = s.replace(\"critical thinking\", \"critical_thinking\")\n",
    "    s = s.replace(\"think critically\", \"critical_thinking\")\n",
    "    s = s.replace(\" r \", \"r_programming\")\n",
    "    s = s.replace(\"process improvement\", \"process_improvement\")\n",
    "    s = s.replace(\"software development\", \"software_development\")\n",
    "    s = s.replace(\"computer science\", \"computer_science\")\n",
    "    return s"
   ]
  },
  {
   "cell_type": "code",
   "execution_count": 12,
   "metadata": {
    "collapsed": true
   },
   "outputs": [],
   "source": [
    "descriptions = senior_jobs['Description'].apply(combine_skills).apply(\n",
    "    remove_punc).apply(remove_stopwords).apply(lem_desc)"
   ]
  },
  {
   "cell_type": "markdown",
   "metadata": {},
   "source": [
    "# Most Common Words in Job Descriptions\n",
    "After cleaning the job descriptions, lets generate a bar chart showing the top 30 most common words"
   ]
  },
  {
   "cell_type": "code",
   "execution_count": 13,
   "metadata": {
    "ExecuteTime": {
     "end_time": "2018-12-14T21:20:27.680157Z",
     "start_time": "2018-12-14T21:20:27.410851Z"
    }
   },
   "outputs": [
    {
     "data": {
      "image/png": "[encoded data removed]",
      "text/plain": [
       "<Figure size 720x720 with 1 Axes>"
      ]
     },
     "metadata": {
      "needs_background": "light"
     },
     "output_type": "display_data"
    }
   ],
   "source": [
    "most_common_words = nltk.FreqDist([word for singledescription in descriptions.tolist()\n",
    "                                   for word in singledescription]).most_common(30)\n",
    "\n",
    "x_freq = [x[0] for x in most_common_words]\n",
    "y_freq = [y[1] for y in most_common_words]\n",
    "\n",
    "plt.figure(figsize=(10, 10))\n",
    "sns.barplot(y=x_freq, x=y_freq, color='#008FD5')\n",
    "plt.title('Most Common Words in Job Descriptions')\n",
    "plt.show()"
   ]
  },
  {
   "cell_type": "markdown",
   "metadata": {},
   "source": [
    "# Most Common Skills in Job Descriptions\n",
    "Generating a list of skills relevant to a data analyst and seeing the most common."
   ]
  },
  {
   "cell_type": "code",
   "execution_count": 14,
   "metadata": {
    "ExecuteTime": {
     "end_time": "2018-12-14T21:20:29.423184Z",
     "start_time": "2018-12-14T21:20:29.193804Z"
    }
   },
   "outputs": [
    {
     "data": {
      "image/png": "[encoded data removed]",
      "text/plain": [
       "<Figure size 720x720 with 1 Axes>"
      ]
     },
     "metadata": {
      "needs_background": "light"
     },
     "output_type": "display_data"
    }
   ],
   "source": [
    "programming = ['hadoop', 'django', 'flask', 'r', 'python', 'c_plus_plus', 'java',\n",
    "               'julia', 'sas', 'sql', 'matlab', 'scala', 'programming', 'vba', 'ruby', 'spark', 'spss', 'r_programming', 'big_data']\n",
    "visualization = ['visualization', 'd3js', 'tableau', 'matplotlib',\n",
    "                 'power_bi', 'plotly', 'qlik', 'datawrapper', 'highscharts', 'dash']\n",
    "software = ['jupyter_notebook', 'excel', 'google_analytics',\n",
    "            'sap', 'salesforce', 'oracle', 'docker', 'aws']\n",
    "maths = ['linear_algebra', 'statistics',\n",
    "         'machine_learning', 'forecasting', 'regression']\n",
    "soft_skills = ['communication_skills',\n",
    "               'problem_solving', 'critical_thinking', 'presenting']\n",
    "\n",
    "skills = programming + visualization + software + maths + soft_skills\n",
    "\n",
    "most_common_skills = nltk.FreqDist([word for singledescription in descriptions.tolist()\n",
    "                                    for word in singledescription if word in skills]).most_common(30)\n",
    "\n",
    "x_freq = [x[0] for x in most_common_skills]\n",
    "y_freq = [y[1] for y in most_common_skills]\n",
    "\n",
    "plt.figure(figsize=(10, 10))\n",
    "sns.barplot(y=x_freq, x=y_freq, color='#008FD5')\n",
    "plt.title('Most Common Skills in Job Descriptions')\n",
    "plt.show()"
   ]
  },
  {
   "cell_type": "markdown",
   "metadata": {},
   "source": [
    "Although this list is biased towards skills I was able to think of (no doubt I missed a few) it shows the skills most in demand for data analyst in Portland are SQL, Forecasting, Excel, Stats, and Python. Also, kind of nice to see Oracle so high as I work for them."
   ]
  },
  {
   "cell_type": "markdown",
   "metadata": {},
   "source": [
    "# Running a Gradient Boosting Regressor"
   ]
  },
  {
   "cell_type": "markdown",
   "metadata": {},
   "source": [
    "## Preparing Job Descriptions for Graident Boosting Regressor"
   ]
  },
  {
   "cell_type": "code",
   "execution_count": 15,
   "metadata": {
    "ExecuteTime": {
     "end_time": "2018-12-14T21:20:38.338485Z",
     "start_time": "2018-12-14T21:20:38.265653Z"
    },
    "collapsed": true
   },
   "outputs": [],
   "source": [
    "# Lets set a new feature with the cleaned description\n",
    "senior_jobs['Description_clean'] = descriptions.str.join(' ')"
   ]
  },
  {
   "cell_type": "code",
   "execution_count": 16,
   "metadata": {
    "ExecuteTime": {
     "end_time": "2018-12-14T21:20:38.603945Z",
     "start_time": "2018-12-14T21:20:38.598927Z"
    }
   },
   "outputs": [
    {
     "data": {
      "text/plain": [
       "Company               0\n",
       "Job Title             0\n",
       "Location              0\n",
       "Salary               98\n",
       "Description           0\n",
       "Description_clean     0\n",
       "dtype: int64"
      ]
     },
     "execution_count": 16,
     "metadata": {},
     "output_type": "execute_result"
    }
   ],
   "source": [
    "senior_jobs.isnull().sum()"
   ]
  },
  {
   "cell_type": "code",
   "execution_count": 17,
   "metadata": {
    "ExecuteTime": {
     "end_time": "2018-12-14T21:20:38.904628Z",
     "start_time": "2018-12-14T21:20:38.896649Z"
    }
   },
   "outputs": [
    {
     "name": "stdout",
     "output_type": "stream",
     "text": [
      "(240, 6)\n",
      "(140, 6)\n"
     ]
    }
   ],
   "source": [
    "print(senior_jobs.shape)\n",
    "# Drop Nulls\n",
    "senior_jobs = senior_jobs.dropna(subset=['Salary'])\n",
    "\n",
    "# Drop low salary due to data error\n",
    "senior_jobs = senior_jobs[senior_jobs['Salary'] > 1000]\n",
    "\n",
    "print(senior_jobs.shape)"
   ]
  },
  {
   "cell_type": "code",
   "execution_count": 18,
   "metadata": {
    "ExecuteTime": {
     "end_time": "2018-12-14T21:20:39.306056Z",
     "start_time": "2018-12-14T21:20:39.302065Z"
    },
    "collapsed": true
   },
   "outputs": [],
   "source": [
    "X = np.array(senior_jobs['Description_clean'])\n",
    "y = np.array(senior_jobs['Salary'])"
   ]
  },
  {
   "cell_type": "code",
   "execution_count": 19,
   "metadata": {
    "ExecuteTime": {
     "end_time": "2018-12-14T21:20:39.821467Z",
     "start_time": "2018-12-14T21:20:39.816480Z"
    },
    "collapsed": true
   },
   "outputs": [],
   "source": [
    "from sklearn.model_selection import train_test_split\n",
    "\n",
    "X_train, X_test, y_train, y_test = train_test_split(\n",
    "    X, y, test_size=0.10, random_state=42)"
   ]
  },
  {
   "cell_type": "markdown",
   "metadata": {},
   "source": [
    "## TF IDF Vectorization for Job Description Features"
   ]
  },
  {
   "cell_type": "code",
   "execution_count": 20,
   "metadata": {
    "ExecuteTime": {
     "end_time": "2018-12-14T21:20:40.308215Z",
     "start_time": "2018-12-14T21:20:40.200473Z"
    },
    "collapsed": true
   },
   "outputs": [],
   "source": [
    "from sklearn.feature_extraction.text import TfidfVectorizer\n",
    "\n",
    "vect = TfidfVectorizer(min_df=5).fit(X_train)\n",
    "vect_test = TfidfVectorizer(min_df=5).fit(X_test)\n",
    "\n",
    "X_train_vectorized = vect.transform(X_train)\n",
    "X_test_vectorized = vect.transform(X_test)"
   ]
  },
  {
   "cell_type": "markdown",
   "metadata": {},
   "source": [
    "## Gradient Boosting Algorithm with TFIDF Features"
   ]
  },
  {
   "cell_type": "code",
   "execution_count": 21,
   "metadata": {
    "ExecuteTime": {
     "end_time": "2018-12-14T21:20:48.453421Z",
     "start_time": "2018-12-14T21:20:40.550535Z"
    }
   },
   "outputs": [
    {
     "name": "stdout",
     "output_type": "stream",
     "text": [
      "RMSE: 19585.2555\n"
     ]
    },
    {
     "data": {
      "image/png": "[encoded data removed]",
      "text/plain": [
       "<Figure size 432x288 with 1 Axes>"
      ]
     },
     "metadata": {
      "needs_background": "light"
     },
     "output_type": "display_data"
    },
    {
     "data": {
      "image/png": "[encoded data removed]",
      "text/plain": [
       "<Figure size 864x432 with 2 Axes>"
      ]
     },
     "metadata": {
      "needs_background": "light"
     },
     "output_type": "display_data"
    }
   ],
   "source": [
    "from sklearn import ensemble\n",
    "from sklearn.metrics import mean_squared_error\n",
    "\n",
    "params = {'n_estimators': 500, 'max_depth': 4, 'min_samples_split': 2,\n",
    "          'learning_rate': 0.1, 'loss': 'ls'}\n",
    "clf = ensemble.GradientBoostingRegressor(**params)\n",
    "\n",
    "clf.fit(X_train_vectorized, y_train)\n",
    "mse = math.sqrt(mean_squared_error(y_test, clf.predict(X_test_vectorized)))\n",
    "print(\"RMSE: %.4f\" % mse)\n",
    "plt.plot(y_test, 'b.', label='Actual')\n",
    "plt.plot(clf.predict(X_test_vectorized), 'r.', label='Predicted')\n",
    "plt.legend()\n",
    "plt.show()\n",
    "\n",
    "# #############################################################################\n",
    "# Plot training deviance\n",
    "\n",
    "# compute test set deviance\n",
    "test_score = np.zeros((params['n_estimators'],), dtype=np.float64)\n",
    "\n",
    "for i, y_pred in enumerate(clf.staged_predict(X_test_vectorized)):\n",
    "    test_score[i] = clf.loss_(y_test, y_pred)\n",
    "\n",
    "plt.figure(figsize=(12, 6))\n",
    "plt.subplot(1, 2, 1)\n",
    "plt.title('Deviance')\n",
    "plt.plot(np.arange(params['n_estimators']) + 1, clf.train_score_, 'b-',\n",
    "         label='Training Set Deviance')\n",
    "plt.plot(np.arange(params['n_estimators']) + 1, test_score, 'r-',\n",
    "         label='Test Set Deviance')\n",
    "plt.legend(loc='upper right')\n",
    "plt.xlabel('Boosting Iterations')\n",
    "plt.ylabel('Deviance')\n",
    "\n",
    "# #############################################################################\n",
    "# Plot feature importance\n",
    "feature_importance = clf.feature_importances_\n",
    "# make importances relative to max importance\n",
    "feature_importance = 100.0 * (feature_importance / feature_importance.max())\n",
    "sorted_idx = np.argsort(feature_importance)\n",
    "pos = np.arange(sorted_idx[:30].shape[0]) + .5\n",
    "plt.subplot(1, 2, 2)\n",
    "plt.barh(pos, feature_importance[sorted_idx][-30:], align='center')\n",
    "plt.yticks(pos, pd.Series(vect.get_feature_names())[sorted_idx][-30:])\n",
    "plt.xlabel('Relative Importance')\n",
    "plt.title('Variable Importance')\n",
    "plt.show()"
   ]
  },
  {
   "cell_type": "markdown",
   "metadata": {},
   "source": [
    "An RMSE of 19k is okay, but lets see if we do a simple Count Vectorized if we can improve this."
   ]
  },
  {
   "cell_type": "markdown",
   "metadata": {},
   "source": [
    "## Count Vectorized for Job Description Features"
   ]
  },
  {
   "cell_type": "code",
   "execution_count": 22,
   "metadata": {
    "ExecuteTime": {
     "end_time": "2018-12-14T21:20:48.614052Z",
     "start_time": "2018-12-14T21:20:48.512233Z"
    },
    "collapsed": true
   },
   "outputs": [],
   "source": [
    "from sklearn.feature_extraction.text import CountVectorizer\n",
    "\n",
    "cvect = CountVectorizer().fit(X_train)\n",
    "cvect_test = CountVectorizer().fit(X_test)\n",
    "X_train_cvectorized = vect.transform(X_train)\n",
    "X_test_cvectorized = vect.transform(X_test)"
   ]
  },
  {
   "cell_type": "markdown",
   "metadata": {},
   "source": [
    "## Gradient Boosting Regressor with Count Vectorized Features"
   ]
  },
  {
   "cell_type": "code",
   "execution_count": 23,
   "metadata": {
    "ExecuteTime": {
     "end_time": "2018-12-14T21:20:53.246591Z",
     "start_time": "2018-12-14T21:20:48.670808Z"
    }
   },
   "outputs": [
    {
     "name": "stdout",
     "output_type": "stream",
     "text": [
      "RMSE: 18961.0527\n"
     ]
    },
    {
     "data": {
      "image/png": "[encoded data removed]",
      "text/plain": [
       "<Figure size 432x288 with 1 Axes>"
      ]
     },
     "metadata": {
      "needs_background": "light"
     },
     "output_type": "display_data"
    },
    {
     "data": {
      "image/png": "[encoded data removed]",
      "text/plain": [
       "<Figure size 864x432 with 2 Axes>"
      ]
     },
     "metadata": {
      "needs_background": "light"
     },
     "output_type": "display_data"
    }
   ],
   "source": [
    "from sklearn import ensemble\n",
    "from sklearn.metrics import mean_squared_error\n",
    "\n",
    "params = {'n_estimators': 500, 'max_depth': 4, 'min_samples_split': 2,\n",
    "          'learning_rate': 0.01, 'loss': 'ls'}\n",
    "clf = ensemble.GradientBoostingRegressor(**params)\n",
    "\n",
    "clf.fit(X_train_cvectorized, y_train)\n",
    "mse = math.sqrt(mean_squared_error(y_test, clf.predict(X_test_cvectorized)))\n",
    "print(\"RMSE: %.4f\" % mse)\n",
    "plt.plot(y_test, 'b.', label='Actual')\n",
    "plt.plot(clf.predict(X_test_cvectorized), 'r.', label='Predicted')\n",
    "plt.legend()\n",
    "plt.show()\n",
    "\n",
    "# #############################################################################\n",
    "# Plot training deviance\n",
    "\n",
    "# compute test set deviance\n",
    "test_score = np.zeros((params['n_estimators'],), dtype=np.float64)\n",
    "\n",
    "for i, y_pred in enumerate(clf.staged_predict(X_test_cvectorized)):\n",
    "    test_score[i] = clf.loss_(y_test, y_pred)\n",
    "\n",
    "plt.figure(figsize=(12, 6))\n",
    "plt.subplot(1, 2, 1)\n",
    "plt.title('Deviance')\n",
    "plt.plot(np.arange(params['n_estimators']) + 1, clf.train_score_, 'b-',\n",
    "         label='Training Set Deviance')\n",
    "plt.plot(np.arange(params['n_estimators']) + 1, test_score, 'r-',\n",
    "         label='Test Set Deviance')\n",
    "plt.legend(loc='upper right')\n",
    "plt.xlabel('Boosting Iterations')\n",
    "plt.ylabel('Deviance')\n",
    "\n",
    "# #############################################################################\n",
    "# Plot feature importance\n",
    "feature_importance = clf.feature_importances_\n",
    "# make importances relative to max importance\n",
    "feature_importance = 100.0 * (feature_importance / feature_importance.max())\n",
    "sorted_idx = np.argsort(feature_importance)\n",
    "pos = np.arange(sorted_idx[:30].shape[0]) + .5\n",
    "plt.subplot(1, 2, 2)\n",
    "plt.barh(pos, feature_importance[sorted_idx][-30:], align='center')\n",
    "plt.yticks(pos, pd.Series(vect.get_feature_names())[sorted_idx][-30:])\n",
    "plt.xlabel('Relative Importance')\n",
    "plt.title('Variable Importance')\n",
    "plt.show()"
   ]
  },
  {
   "cell_type": "markdown",
   "metadata": {},
   "source": [
    "The RMSE is basically identical. Lets try a Support Vector Machine"
   ]
  },
  {
   "cell_type": "markdown",
   "metadata": {},
   "source": [
    "# Support Vector Machine"
   ]
  },
  {
   "cell_type": "code",
   "execution_count": 24,
   "metadata": {
    "ExecuteTime": {
     "end_time": "2018-12-14T21:20:53.461023Z",
     "start_time": "2018-12-14T21:20:53.309397Z"
    }
   },
   "outputs": [
    {
     "name": "stdout",
     "output_type": "stream",
     "text": [
      "RMSE: 20371.5488\n"
     ]
    },
    {
     "name": "stderr",
     "output_type": "stream",
     "text": [
      "C:\\Users\\alexa\\AppData\\Local\\Programs\\Python\\Python36\\lib\\site-packages\\sklearn\\svm\\base.py:196: FutureWarning: The default value of gamma will change from 'auto' to 'scale' in version 0.22 to account better for unscaled features. Set gamma explicitly to 'auto' or 'scale' to avoid this warning.\n",
      "  \"avoid this warning.\", FutureWarning)\n"
     ]
    },
    {
     "data": {
      "image/png": "[encoded data removed]",
      "text/plain": [
       "<Figure size 432x288 with 1 Axes>"
      ]
     },
     "metadata": {
      "needs_background": "light"
     },
     "output_type": "display_data"
    }
   ],
   "source": [
    "from sklearn.svm import SVC\n",
    "\n",
    "\n",
    "clf = SVC()\n",
    "clf.fit(X_train_vectorized, y_train)\n",
    "\n",
    "# predict and evaluate predictions\n",
    "mse = math.sqrt(mean_squared_error(y_test, clf.predict(X_test_vectorized)))\n",
    "print(\"RMSE: %.4f\" % mse)\n",
    "\n",
    "plt.plot(y_test, 'b.')\n",
    "plt.plot(clf.predict(X_test_vectorized), 'r.')\n",
    "plt.show()"
   ]
  },
  {
   "cell_type": "markdown",
   "metadata": {},
   "source": [
    "The Support Vector Machine just predicted the mean salary for all predictions resulting the baseline RMSE of 20,371."
   ]
  },
  {
   "cell_type": "markdown",
   "metadata": {},
   "source": [
    "# Linear Regression\n",
    "Lets just go back to basics and run a simple Linear Regression model."
   ]
  },
  {
   "cell_type": "code",
   "execution_count": 25,
   "metadata": {
    "ExecuteTime": {
     "end_time": "2018-12-14T21:20:53.533829Z",
     "start_time": "2018-12-14T21:20:53.529808Z"
    },
    "collapsed": true
   },
   "outputs": [],
   "source": [
    "from sklearn.linear_model import LinearRegression"
   ]
  },
  {
   "cell_type": "code",
   "execution_count": 26,
   "metadata": {
    "ExecuteTime": {
     "end_time": "2018-12-14T21:20:53.708363Z",
     "start_time": "2018-12-14T21:20:53.595634Z"
    }
   },
   "outputs": [
    {
     "name": "stdout",
     "output_type": "stream",
     "text": [
      "RMSE: 16015.6990\n"
     ]
    },
    {
     "data": {
      "image/png": "[encoded data removed]",
      "text/plain": [
       "<Figure size 432x288 with 1 Axes>"
      ]
     },
     "metadata": {
      "needs_background": "light"
     },
     "output_type": "display_data"
    }
   ],
   "source": [
    "lr = LinearRegression()\n",
    "lr.fit(X_train_vectorized, y_train)\n",
    "mse = math.sqrt(mean_squared_error(y_test, lr.predict(X_test_vectorized)))\n",
    "print(\"RMSE: %.4f\" % mse)\n",
    "plt.plot(y_test, 'b.', label='Actual')\n",
    "plt.plot(lr.predict(X_test_vectorized), 'r.', label='Prediction')\n",
    "plt.legend()\n",
    "plt.show()"
   ]
  },
  {
   "cell_type": "markdown",
   "metadata": {},
   "source": [
    "Suprisingly, the LInear Regression model has the best RMSE so we will use this model to have some fun predicting salaries below."
   ]
  },
  {
   "cell_type": "markdown",
   "metadata": {},
   "source": [
    "## Feature Importance of Linear Regression\n",
    "Lets look at which features we're the most important in predicting salaries in the Linear Regression model"
   ]
  },
  {
   "cell_type": "code",
   "execution_count": 27,
   "metadata": {
    "ExecuteTime": {
     "end_time": "2018-12-14T21:20:53.813283Z",
     "start_time": "2018-12-14T21:20:53.775151Z"
    },
    "collapsed": true
   },
   "outputs": [],
   "source": [
    "feature_importance = sorted(zip(vect.get_feature_names(), lr.coef_),\n",
    "                            key=lambda x: x[1], reverse=True)"
   ]
  },
  {
   "cell_type": "code",
   "execution_count": 28,
   "metadata": {},
   "outputs": [
    {
     "data": {
      "image/png": "[encoded data removed]",
      "text/plain": [
       "<Figure size 720x720 with 2 Axes>"
      ]
     },
     "metadata": {
      "needs_background": "light"
     },
     "output_type": "display_data"
    }
   ],
   "source": [
    "x_imp = [x[0] for x in feature_importance]\n",
    "y_imp = [y[1] for y in feature_importance]\n",
    "\n",
    "plt.figure(figsize=(10, 10))\n",
    "plt.subplot(2, 1, 1)\n",
    "sns.barplot(y=x_imp[:20], x=y_imp[:20], color='#008FD5')\n",
    "plt.title('Top 20 Positive Predictors')\n",
    "\n",
    "plt.subplot(2, 1, 2)\n",
    "sns.barplot(y=x_imp[-20:], x=y_imp[-20:], color='#D73535')\n",
    "plt.title('Top 20 Negative Predictors')\n",
    "\n",
    "\n",
    "plt.show()"
   ]
  },
  {
   "cell_type": "markdown",
   "metadata": {},
   "source": [
    "Based on above having machine learning skills and getting the title of Data Scientist is very important for high salaries as a Data Analyst. Other words like Expert, Engineer, Solution, Advanced, Platform, and Product lead me to believe that Data Analyst who can create data products are the most highly paid.\n",
    "\n",
    "While on the other end of the spectrum it appears that data analyst in the fields of web, banking, marketing, and logistics are not as highly paid as other data analyst."
   ]
  },
  {
   "cell_type": "markdown",
   "metadata": {},
   "source": [
    "# Saving TFIDF and LR model using Pickle"
   ]
  },
  {
   "cell_type": "code",
   "execution_count": 29,
   "metadata": {
    "collapsed": true
   },
   "outputs": [],
   "source": [
    "import pickle\n",
    "\n",
    "pickle.dump(lr, open('lr_desc_model.sav', 'wb'))\n",
    "pickle.dump(vect, open('tfidf.sav', 'wb'))"
   ]
  },
  {
   "cell_type": "markdown",
   "metadata": {},
   "source": [
    "# Finalizing it all into one function a function\n",
    "The function below takes in an input of a job description as a string. Cleans the string to combine skills words (see above), remove punctuation, remove stopwords, TF IDF vectorizes the string into features, then uses the Linear Regression model to make a salary predictions."
   ]
  },
  {
   "cell_type": "code",
   "execution_count": 30,
   "metadata": {
    "collapsed": true
   },
   "outputs": [],
   "source": [
    "def clean_vect_pred(desc):\n",
    "\n",
    "    # Load Linear Regression Model and TF IDF vectorizer\n",
    "    lr = pickle.load(open('lr_desc_model.sav', 'rb'))\n",
    "    vect = pickle.load(open('tfidf.sav', 'rb'))\n",
    "\n",
    "    # Apply all cleaning functions\n",
    "    clean = np.asarray(pd.Series(desc).str.lower().apply(combine_skills).apply(\n",
    "        remove_punc).apply(remove_stopwords).apply(lem_desc).str.join(' '))\n",
    "\n",
    "    # Vectorize cleaned job description\n",
    "    clean_vect = vect.transform(clean)\n",
    "\n",
    "    # Use Linear Regression model to predict Salary\n",
    "    prediction = lr.predict(clean_vect)\n",
    "\n",
    "    # Round salary to 2 decimals and return result\n",
    "    return round(prediction[0], 2)"
   ]
  },
  {
   "cell_type": "code",
   "execution_count": 31,
   "metadata": {
    "collapsed": true
   },
   "outputs": [],
   "source": [
    "nike_desc = \"\"\" As a Data Analyst I in the Nike Sports Research Lab, you'll be responsible for sustaining and supporting the data-driven capabilities that keeps the lab operational. This includes day-to-day support of study administration, reporting dashboards, and the collection of requirements for new software tools. You will also play a key role in supporting the transition the lab to new software platforms that facilitate the efficiency of our research operations. You will be supporting the data needs of researchers specific to their ability to conduct science focusing on product development and athletic performance. Ideal candidates will able to understand complex business processes from the smallest details to the large picture and make improvements at a micro and macro scale. \n",
    "\n",
    "This position reports to the Director of Data Management in the NSRL. \n",
    "\n",
    "RESPONSIBILITIES\n",
    "Provide day-to-day operational support for business processes driven by data, including curation and management of data across several teams\n",
    "Provide guidance and support for file and data management\n",
    "Lead or assist in transition management to new tools and capabilities, ensuring compliance and adoption\n",
    "Create user guides to assist with software adoption\n",
    "Documentation of new requirements and needs of stakeholders\n",
    "Support Product Owners in organization of business requirements\n",
    "Qualifications\n",
    "A Bachelor degree in Data Management, Business Information Systems, or relevant field. Minimum two years directly related work experience\n",
    "Demonstrated ability to dive deep into business processes/systems and make improvements\n",
    "A track record of delivering results both individually and as a team\n",
    "SKILLS\n",
    "Excellent inter-personal and communication skills, both written and verbal\n",
    "Ability to clearly articulate problems and solutions\n",
    "A solution-oriented attitude that focuses on continuous improvement\n",
    "A motivated seeker of process efficiencies\n",
    "Able to connect with stakeholders from other parts of the organization and understand their objectives\n",
    "Provide a keen eye for detail\n",
    "Superior organizational skills to facilitate working across multiple projects simultaneously\n",
    "Experience with Agile and LEAN methodologies a plus\n",
    "Ability to code (Python, R, Matlab, Tableau) preferred\n",
    "\n",
    "\"\"\""
   ]
  },
  {
   "cell_type": "code",
   "execution_count": 32,
   "metadata": {},
   "outputs": [
    {
     "name": "stdout",
     "output_type": "stream",
     "text": [
      "\n",
      "\n",
      "Predicted Salary: $87697.77\n"
     ]
    }
   ],
   "source": [
    "print(f\"\\n\\nPredicted Salary: ${clean_vect_pred(nike_desc)}\")"
   ]
  },
  {
   "cell_type": "markdown",
   "metadata": {},
   "source": [
    "![NN](./GlassdoorActual.png)"
   ]
  },
  {
   "cell_type": "markdown",
   "metadata": {},
   "source": [
    "Actual Predicted Salary on Glassdoor is 83k - 108k with the actual as $95,000 so not too bad that the simple linear regression model predicts within 10k"
   ]
  },
  {
   "cell_type": "markdown",
   "metadata": {
    "hide_input": true
   },
   "source": [
    "# Try it Yourself\n",
    "\n",
    "The Predicted Salary will output below"
   ]
  },
  {
   "cell_type": "code",
   "execution_count": 33,
   "metadata": {},
   "outputs": [
    {
     "data": {
      "application/vnd.jupyter.widget-view+json": {
       "model_id": "b8fb3e4bd927459ab14e2c0a8894b45a",
       "version_major": 2,
       "version_minor": 0
      },
      "text/plain": [
       "Text(value='')"
      ]
     },
     "metadata": {},
     "output_type": "display_data"
    }
   ],
   "source": [
    "from IPython.display import display\n",
    "from ipywidgets import widgets\n",
    "\n",
    "outputText = widgets.Text()\n",
    "outputText"
   ]
  },
  {
   "cell_type": "markdown",
   "metadata": {},
   "source": [
    "Enter your job description below and click the submit button"
   ]
  },
  {
   "cell_type": "code",
   "execution_count": 34,
   "metadata": {},
   "outputs": [
    {
     "name": "stdout",
     "output_type": "stream",
     "text": [
      "Enter Job Description and Click Submit:\n"
     ]
    },
    {
     "data": {
      "application/vnd.jupyter.widget-view+json": {
       "model_id": "ccdd49fdac264148a65ade9e4953335a",
       "version_major": 2,
       "version_minor": 0
      },
      "text/plain": [
       "Textarea(value='')"
      ]
     },
     "metadata": {},
     "output_type": "display_data"
    },
    {
     "data": {
      "application/vnd.jupyter.widget-view+json": {
       "model_id": "d43653299fe042d592a31b515685e897",
       "version_major": 2,
       "version_minor": 0
      },
      "text/plain": [
       "Button(description='Submit', style=ButtonStyle())"
      ]
     },
     "metadata": {},
     "output_type": "display_data"
    }
   ],
   "source": [
    "def button_clicked(b):\n",
    "    outputText.value = f\"\\n\\nPredicted Salary: ${clean_vect_pred(user_description.value)}\"\n",
    "    print(f\"\\n\\nPredicted Salary: ${clean_vect_pred(user_description.value)}\")\n",
    "\n",
    "button = widgets.Button(description=\"Submit\")\n",
    "user_description = widgets.Textarea()\n",
    "print('Enter Job Description and Click Submit:')\n",
    "display(user_description)\n",
    "display(button)\n",
    "\n",
    "button.on_click(button_clicked)"
   ]
  },
  {
   "cell_type": "code",
   "execution_count": null,
   "metadata": {
    "collapsed": true
   },
   "outputs": [],
   "source": []
  }
 ],
 "metadata": {
  "hide_input": false,
  "kernelspec": {
   "display_name": "Python 3",
   "language": "python",
   "name": "python3"
  },
  "language_info": {
   "codemirror_mode": {
    "name": "ipython",
    "version": 3
   },
   "file_extension": ".py",
   "mimetype": "text/x-python",
   "name": "python",
   "nbconvert_exporter": "python",
   "pygments_lexer": "ipython3",
   "version": "3.6.4"
  },
  "toc": {
   "base_numbering": 1,
   "nav_menu": {},
   "number_sections": true,
   "sideBar": true,
   "skip_h1_title": false,
   "title_cell": "Table of Contents",
   "title_sidebar": "Contents",
   "toc_cell": false,
   "toc_position": {},
   "toc_section_display": true,
   "toc_window_display": false
  },
  "varInspector": {
   "cols": {
    "lenName": 16,
    "lenType": 16,
    "lenVar": 40
   },
   "kernels_config": {
    "python": {
     "delete_cmd_postfix": "",
     "delete_cmd_prefix": "del ",
     "library": "var_list.py",
     "varRefreshCmd": "print(var_dic_list())"
    },
    "r": {
     "delete_cmd_postfix": ") ",
     "delete_cmd_prefix": "rm(",
     "library": "var_list.r",
     "varRefreshCmd": "cat(var_dic_list()) "
    }
   },
   "types_to_exclude": [
    "module",
    "function",
    "builtin_function_or_method",
    "instance",
    "_Feature"
   ],
   "window_display": true
  },
  "widgets": {
   "application/vnd.jupyter.widget-state+json": {
    "state": {
     "01f156620a8d4e248fa27203a3fca76c": {
      "model_module": "@jupyter-widgets/base",
      "model_module_version": "1.1.0",
      "model_name": "LayoutModel",
      "state": {
       "_model_module_version": "1.1.0",
       "_view_module_version": "1.1.0",
       "grid_area": null,
       "grid_auto_columns": null,
       "grid_auto_flow": null,
       "grid_auto_rows": null,
       "grid_column": null,
       "grid_gap": null,
       "grid_row": null,
       "grid_template_areas": null,
       "grid_template_columns": null,
       "grid_template_rows": null
      }
     },
     "0c701e1e9c724b4683b91fd4b25d1f40": {
      "model_module": "@jupyter-widgets/controls",
      "model_module_version": "1.4.0",
      "model_name": "TextareaModel",
      "state": {
       "_model_module_version": "1.4.0",
       "_view_module_version": "1.4.0",
       "description_tooltip": null,
       "layout": "IPY_MODEL_4f5211fc5f874c67aaf4a40838e854b4",
       "style": "IPY_MODEL_3246840d06cf48a1984e7fb33065d565"
      }
     },
     "0f8d251b1ef14c87a65c5214ea25845e": {
      "model_module": "@jupyter-widgets/base",
      "model_module_version": "1.1.0",
      "model_name": "LayoutModel",
      "state": {
       "_model_module_version": "1.1.0",
       "_view_module_version": "1.1.0",
       "grid_area": null,
       "grid_auto_columns": null,
       "grid_auto_flow": null,
       "grid_auto_rows": null,
       "grid_column": null,
       "grid_gap": null,
       "grid_row": null,
       "grid_template_areas": null,
       "grid_template_columns": null,
       "grid_template_rows": null
      }
     },
     "117bc471a2d8477eae9eb318ac1a3c5d": {
      "model_module": "@jupyter-widgets/controls",
      "model_module_version": "1.4.0",
      "model_name": "TextareaModel",
      "state": {
       "_model_module_version": "1.4.0",
       "_view_module_version": "1.4.0",
       "description_tooltip": null,
       "layout": "IPY_MODEL_f9c0274c33734eb68059145066d99ccf",
       "style": "IPY_MODEL_24760afd47e34f5083a95f997dc9cfc7"
      }
     },
     "1f7d87f5dbdb4c41b8077cd82108eac6": {
      "model_module": "@jupyter-widgets/controls",
      "model_module_version": "1.4.0",
      "model_name": "TextModel",
      "state": {
       "_model_module_version": "1.4.0",
       "_view_module_version": "1.4.0",
       "description_tooltip": null,
       "layout": "IPY_MODEL_01f156620a8d4e248fa27203a3fca76c",
       "style": "IPY_MODEL_59dfdd7ed3c841f180da17f58eeb95bd",
       "value": "\n\nPredicted Salary: $86166.67"
      }
     },
     "23f3dd10d5fa4148a53939aa8dd3dd7d": {
      "model_module": "@jupyter-widgets/base",
      "model_module_version": "1.1.0",
      "model_name": "LayoutModel",
      "state": {
       "_model_module_version": "1.1.0",
       "_view_module_version": "1.1.0",
       "grid_area": null,
       "grid_auto_columns": null,
       "grid_auto_flow": null,
       "grid_auto_rows": null,
       "grid_column": null,
       "grid_gap": null,
       "grid_row": null,
       "grid_template_areas": null,
       "grid_template_columns": null,
       "grid_template_rows": null
      }
     },
     "24760afd47e34f5083a95f997dc9cfc7": {
      "model_module": "@jupyter-widgets/controls",
      "model_module_version": "1.4.0",
      "model_name": "DescriptionStyleModel",
      "state": {
       "_model_module_version": "1.4.0",
       "_view_module_version": "1.1.0",
       "description_width": ""
      }
     },
     "247c427ea56549c6b28d18945db108f9": {
      "model_module": "@jupyter-widgets/controls",
      "model_module_version": "1.4.0",
      "model_name": "ButtonModel",
      "state": {
       "_model_module_version": "1.4.0",
       "_view_module_version": "1.4.0",
       "description": "Submit",
       "layout": "IPY_MODEL_27655cbd027a49fc98d98ff57b3a235c",
       "style": "IPY_MODEL_52d0bf00bc334d558138be4505655209"
      }
     },
     "27655cbd027a49fc98d98ff57b3a235c": {
      "model_module": "@jupyter-widgets/base",
      "model_module_version": "1.1.0",
      "model_name": "LayoutModel",
      "state": {
       "_model_module_version": "1.1.0",
       "_view_module_version": "1.1.0",
       "grid_area": null,
       "grid_auto_columns": null,
       "grid_auto_flow": null,
       "grid_auto_rows": null,
       "grid_column": null,
       "grid_gap": null,
       "grid_row": null,
       "grid_template_areas": null,
       "grid_template_columns": null,
       "grid_template_rows": null
      }
     },
     "27c6eabc5aaf439087287ae7e990beb5": {
      "model_module": "@jupyter-widgets/controls",
      "model_module_version": "1.4.0",
      "model_name": "TextareaModel",
      "state": {
       "_model_module_version": "1.4.0",
       "_view_module_version": "1.4.0",
       "description_tooltip": null,
       "layout": "IPY_MODEL_5b32a51876914c0bb3d788114466fce8",
       "style": "IPY_MODEL_de3278a106b74c05827d086e8adc494a"
      }
     },
     "2da5a5fed5d84b27a333f19e41e7165b": {
      "model_module": "@jupyter-widgets/controls",
      "model_module_version": "1.4.0",
      "model_name": "DescriptionStyleModel",
      "state": {
       "_model_module_version": "1.4.0",
       "_view_module_version": "1.1.0",
       "description_width": ""
      }
     },
     "2e91bec7e77d4359a111ea306a0d8318": {
      "model_module": "@jupyter-widgets/controls",
      "model_module_version": "1.4.0",
      "model_name": "ButtonModel",
      "state": {
       "_model_module_version": "1.4.0",
       "_view_module_version": "1.4.0",
       "description": "Submit",
       "layout": "IPY_MODEL_6d023b9e544c4a678770123806a7bcd6",
       "style": "IPY_MODEL_abc048d084b64ea7854e68ccec6ad8e2"
      }
     },
     "3246840d06cf48a1984e7fb33065d565": {
      "model_module": "@jupyter-widgets/controls",
      "model_module_version": "1.4.0",
      "model_name": "DescriptionStyleModel",
      "state": {
       "_model_module_version": "1.4.0",
       "_view_module_version": "1.1.0",
       "description_width": ""
      }
     },
     "34bfcd08a0744db7a3d22671c06302c0": {
      "model_module": "@jupyter-widgets/controls",
      "model_module_version": "1.4.0",
      "model_name": "ButtonStyleModel",
      "state": {
       "_model_module_version": "1.4.0",
       "_view_module_version": "1.1.0"
      }
     },
     "3f089af494614886aa5c22ae7cf53743": {
      "model_module": "@jupyter-widgets/controls",
      "model_module_version": "1.4.0",
      "model_name": "ButtonModel",
      "state": {
       "_model_module_version": "1.4.0",
       "_view_module_version": "1.4.0",
       "description": "Submit",
       "layout": "IPY_MODEL_6a6928b42a844073a2ef30e554636f3f",
       "style": "IPY_MODEL_d397f85c0040496ea4160cafffcc45c2"
      }
     },
     "41d0e4435ef04156b3db280a756a40e9": {
      "model_module": "@jupyter-widgets/controls",
      "model_module_version": "1.4.0",
      "model_name": "ButtonModel",
      "state": {
       "_model_module_version": "1.4.0",
       "_view_module_version": "1.4.0",
       "description": "Submit",
       "layout": "IPY_MODEL_6f8837fa0a9a4f46be5714188b5f61f7",
       "style": "IPY_MODEL_bb6af8dc2cb649948b5acd2ada560081"
      }
     },
     "454497efe9b1463cb32f7f0dc8859e93": {
      "model_module": "@jupyter-widgets/controls",
      "model_module_version": "1.4.0",
      "model_name": "ButtonStyleModel",
      "state": {
       "_model_module_version": "1.4.0",
       "_view_module_version": "1.1.0"
      }
     },
     "455b5ac2ada34abf8f35f136a4539413": {
      "model_module": "@jupyter-widgets/controls",
      "model_module_version": "1.4.0",
      "model_name": "ButtonStyleModel",
      "state": {
       "_model_module_version": "1.4.0",
       "_view_module_version": "1.1.0"
      }
     },
     "4cf3916963f3410d848f4ee234dc0663": {
      "model_module": "@jupyter-widgets/controls",
      "model_module_version": "1.4.0",
      "model_name": "ButtonModel",
      "state": {
       "_model_module_version": "1.4.0",
       "_view_module_version": "1.4.0",
       "description": "Submit",
       "layout": "IPY_MODEL_a1732fa7a2e74133bbbc4a4009e09c04",
       "style": "IPY_MODEL_34bfcd08a0744db7a3d22671c06302c0"
      }
     },
     "4d8014d24ff449ceaa74a7608bbcc39b": {
      "model_module": "@jupyter-widgets/controls",
      "model_module_version": "1.4.0",
      "model_name": "TextareaModel",
      "state": {
       "_model_module_version": "1.4.0",
       "_view_module_version": "1.4.0",
       "description_tooltip": null,
       "layout": "IPY_MODEL_7b81a7d74a7842bcaabf5943afab2456",
       "style": "IPY_MODEL_98970109835944b4ae21f8a4fb97cb0e"
      }
     },
     "4df4ab047d0645f88af72229ee51b797": {
      "model_module": "@jupyter-widgets/controls",
      "model_module_version": "1.4.0",
      "model_name": "ButtonModel",
      "state": {
       "_model_module_version": "1.4.0",
       "_view_module_version": "1.4.0",
       "description": "Submit",
       "layout": "IPY_MODEL_f56b813e469c46ddb7dcedc46152e5d0",
       "style": "IPY_MODEL_b6a27a130cc34ffc942e85fbb583c595"
      }
     },
     "4f04db10102b4108878ca0a4187a7ede": {
      "model_module": "@jupyter-widgets/controls",
      "model_module_version": "1.4.0",
      "model_name": "TextModel",
      "state": {
       "_model_module_version": "1.4.0",
       "_view_module_version": "1.4.0",
       "description_tooltip": null,
       "layout": "IPY_MODEL_b703e8291b444e34aa50ce76f92f1de3",
       "style": "IPY_MODEL_4fa9a5059f8f442fa92cb2bcc7987456"
      }
     },
     "4f5211fc5f874c67aaf4a40838e854b4": {
      "model_module": "@jupyter-widgets/base",
      "model_module_version": "1.1.0",
      "model_name": "LayoutModel",
      "state": {
       "_model_module_version": "1.1.0",
       "_view_module_version": "1.1.0",
       "grid_area": null,
       "grid_auto_columns": null,
       "grid_auto_flow": null,
       "grid_auto_rows": null,
       "grid_column": null,
       "grid_gap": null,
       "grid_row": null,
       "grid_template_areas": null,
       "grid_template_columns": null,
       "grid_template_rows": null
      }
     },
     "4f6d16d952464b82bcc14c3c5ce0e9de": {
      "model_module": "@jupyter-widgets/controls",
      "model_module_version": "1.4.0",
      "model_name": "TextModel",
      "state": {
       "_model_module_version": "1.4.0",
       "_view_module_version": "1.4.0",
       "description_tooltip": null,
       "layout": "IPY_MODEL_764a20cc659c45609d847da71a89679f",
       "style": "IPY_MODEL_2da5a5fed5d84b27a333f19e41e7165b"
      }
     },
     "4fa9a5059f8f442fa92cb2bcc7987456": {
      "model_module": "@jupyter-widgets/controls",
      "model_module_version": "1.4.0",
      "model_name": "DescriptionStyleModel",
      "state": {
       "_model_module_version": "1.4.0",
       "_view_module_version": "1.1.0",
       "description_width": ""
      }
     },
     "50b723283dea406bb4716a6f32b55419": {
      "model_module": "@jupyter-widgets/base",
      "model_module_version": "1.1.0",
      "model_name": "LayoutModel",
      "state": {
       "_model_module_version": "1.1.0",
       "_view_module_version": "1.1.0",
       "grid_area": null,
       "grid_auto_columns": null,
       "grid_auto_flow": null,
       "grid_auto_rows": null,
       "grid_column": null,
       "grid_gap": null,
       "grid_row": null,
       "grid_template_areas": null,
       "grid_template_columns": null,
       "grid_template_rows": null
      }
     },
     "51dedc531e7b44fb8c4da09558f5884c": {
      "model_module": "@jupyter-widgets/base",
      "model_module_version": "1.1.0",
      "model_name": "LayoutModel",
      "state": {
       "_model_module_version": "1.1.0",
       "_view_module_version": "1.1.0",
       "grid_area": null,
       "grid_auto_columns": null,
       "grid_auto_flow": null,
       "grid_auto_rows": null,
       "grid_column": null,
       "grid_gap": null,
       "grid_row": null,
       "grid_template_areas": null,
       "grid_template_columns": null,
       "grid_template_rows": null
      }
     },
     "52d0bf00bc334d558138be4505655209": {
      "model_module": "@jupyter-widgets/controls",
      "model_module_version": "1.4.0",
      "model_name": "ButtonStyleModel",
      "state": {
       "_model_module_version": "1.4.0",
       "_view_module_version": "1.1.0"
      }
     },
     "56bde90e9d7747abb1c43add3e7eb7d5": {
      "model_module": "@jupyter-widgets/controls",
      "model_module_version": "1.4.0",
      "model_name": "TextModel",
      "state": {
       "_model_module_version": "1.4.0",
       "_view_module_version": "1.4.0",
       "description_tooltip": null,
       "layout": "IPY_MODEL_b89739662b55457e860c27c1d48a51ad",
       "style": "IPY_MODEL_b801538259fa49efaed48d093159c583",
       "value": "\n\nPredicted Salary: $98118.14"
      }
     },
     "59dfdd7ed3c841f180da17f58eeb95bd": {
      "model_module": "@jupyter-widgets/controls",
      "model_module_version": "1.4.0",
      "model_name": "DescriptionStyleModel",
      "state": {
       "_model_module_version": "1.4.0",
       "_view_module_version": "1.1.0",
       "description_width": ""
      }
     },
     "5b32a51876914c0bb3d788114466fce8": {
      "model_module": "@jupyter-widgets/base",
      "model_module_version": "1.1.0",
      "model_name": "LayoutModel",
      "state": {
       "_model_module_version": "1.1.0",
       "_view_module_version": "1.1.0",
       "grid_area": null,
       "grid_auto_columns": null,
       "grid_auto_flow": null,
       "grid_auto_rows": null,
       "grid_column": null,
       "grid_gap": null,
       "grid_row": null,
       "grid_template_areas": null,
       "grid_template_columns": null,
       "grid_template_rows": null
      }
     },
     "607951e7f52e4a8194996992e58d35ea": {
      "model_module": "@jupyter-widgets/base",
      "model_module_version": "1.1.0",
      "model_name": "LayoutModel",
      "state": {
       "_model_module_version": "1.1.0",
       "_view_module_version": "1.1.0",
       "grid_area": null,
       "grid_auto_columns": null,
       "grid_auto_flow": null,
       "grid_auto_rows": null,
       "grid_column": null,
       "grid_gap": null,
       "grid_row": null,
       "grid_template_areas": null,
       "grid_template_columns": null,
       "grid_template_rows": null
      }
     },
     "6616c5f9a0284a8ca951d0b1cadcbe40": {
      "model_module": "@jupyter-widgets/controls",
      "model_module_version": "1.4.0",
      "model_name": "TextareaModel",
      "state": {
       "_model_module_version": "1.4.0",
       "_view_module_version": "1.4.0",
       "description_tooltip": null,
       "layout": "IPY_MODEL_51dedc531e7b44fb8c4da09558f5884c",
       "style": "IPY_MODEL_fa95f4160f3241b5b35f11d7ecf44ce1",
       "value": "The DTC Reporting Specialist is a critical team member of the KEEN Global Direct to Consumer - Optimization & Analytics team. This position will be responsible for building a holistic view of the global DTC business and elevating visibility of KPI’s. The Optimization & Analytics group primarily focuses on digital analytics; working with teams across all channels and regions to provide better insights throughout the organization. This position will be tasked with executing research to better understand conversion rate, acquisition of target audiences, and lifetime value across the global DTC organization. As a data and analytics expert, this position will be responsible for observing, measuring, and identifying key trends in our data. This position will work with DTC global teams in US, Japan, Europe and Canada to gather data and analytics needs that will assist teams growing the DTC business. Through a passion for analytics and business, this position will help prioritize data and analytics requests that will truly move the needle. \n\nKey Responsibilities:\nWork in partnership with UX to identify bottlenecks in the customer journey by device-type, browser, audience, and geography through tools like Google Analytics, HotJar, direct observation, and surveying technologies\nKey member in defining workflow and measurement process for newly created CRO (conversion rate optimization) initiatives and integrate the approach into cross-functional teams (Technology, Creative, Merchandising, Operations, UX, and others)\nIdentify new opportunities through data, that will drive established KPI improvements and work with the Global DTC team to prioritize and define these projects\nEstablish a communication strategy to ensure that all cross-functional teams are aware of results and opportunities identified in data ensuring that conflicts are transparently resolved\nPerform weekly, monthly and quarterly reporting for each region, channel and business unit within the DTC organization.\nAssist in reporting out to management and divisions the successes and learnings from data analysis projects\nTransparently define confidence and success metrics to ensure positive and negative results are communicated effectively\nAssist in the definition of a holistic personalization roadmap and own the measurement, ensuring that each phase identifies a mutually agreed-upon business problem, solution, and financial business case for achieving a 1:1 relationship with our fan-base according to statistical data analysis\nLeverage learnings from data and apply results to integrated Retail, Catalog, and Digital Wholesale campaign execution\nAssist in analytics integrations and ensure accurate data collections\nProduce accurate and timely reporting for key stakeholders\nAssist in management and development on data processing and the data warehouse\nWork with regional teams in Japan, Europe and Canada to elevate use of technology and establish regular reporting cadence\nKnowledge/Skills Required:\n1-3 years of industry experience in the areas of eCommerce optimization, business analysis\n1-3 years of experience in quantitative analytics\nStrong written and communication skills with a high degree of technical aptitude and savvy\nStrong ability to partner with teams globally (both written and verbally)\nExperience in apparel/footwear industry is a plus\nExperience in advanced analytical techniques specifically in relation to measuring customer journeys and optimization activities in a digital setting\nFamiliar with data sources and ability to access data in multiple platforms. (SQL, R, Python)\nStrong understanding of emerging trends in eCommerce, personalization, and digital marketing\nMust have a fluency in SQL or similar language, competency with statistical packages like R, Matplotlib, experience with scripting languages like Python or Java\nMust have experience with BI Software like PowerBI, Tableau, Looker or Domo\nExpert Excel skills\nMust have experience with Google Analytics\nPreferred experience with Google Tag Manager, AdWords, and Search Console\nPreferred experience with AWS including Lambda, Redshift and Data pipeline\nPhysical Requirements:\nHandle up to 25 lbs\n\nEmployee Conduct: It is the responsibility of every employee to contribute to a positive work environment through: mutual trust and respect; personal accountability and integrity; desire for growth and learning opportunities; teamwork; positive, honest and effective communication and professional interactions with co-workers, customers and partners. \n\nWhy KEEN: Driven by a passion for life outside, KEEN is a values-led, independently owned brand from Portland, Oregon, that’s on a mission to create original and versatile products, improve lives, and inspire outside adventure. Founded in 2003, KEEN launched a revolution in the footwear industry with the introduction of the Newport adventure sandal, and has donated more than $17 million to non-profit organizations and causes around the world to promote responsible outdoor recreation, including conservation efforts to protect open spaces. KEEN strives to show the world through its products and its actions that a business for good can actually be good for business. By giving back, reducing impact, and activating communities and individuals to protectthe places where we work and play, KEEN puts its values in motion and takes action to leave the world a better place. Learn more at https://www.keenfootwear.com/our-purpose.html \n\nKEEN is an equal opportunity employer, who values an inclusive and diverse community. Qualified candidates of all backgrounds are encouraged to apply and will be considered without regard to race, color, religion, sex, national origin, age, sexual orientation, gender identity, gender expression, veteran status or disability."
      }
     },
     "6a6928b42a844073a2ef30e554636f3f": {
      "model_module": "@jupyter-widgets/base",
      "model_module_version": "1.1.0",
      "model_name": "LayoutModel",
      "state": {
       "_model_module_version": "1.1.0",
       "_view_module_version": "1.1.0",
       "grid_area": null,
       "grid_auto_columns": null,
       "grid_auto_flow": null,
       "grid_auto_rows": null,
       "grid_column": null,
       "grid_gap": null,
       "grid_row": null,
       "grid_template_areas": null,
       "grid_template_columns": null,
       "grid_template_rows": null
      }
     },
     "6b809e485d5443e6a2ef3b372c3d2574": {
      "model_module": "@jupyter-widgets/base",
      "model_module_version": "1.1.0",
      "model_name": "LayoutModel",
      "state": {
       "_model_module_version": "1.1.0",
       "_view_module_version": "1.1.0",
       "grid_area": null,
       "grid_auto_columns": null,
       "grid_auto_flow": null,
       "grid_auto_rows": null,
       "grid_column": null,
       "grid_gap": null,
       "grid_row": null,
       "grid_template_areas": null,
       "grid_template_columns": null,
       "grid_template_rows": null
      }
     },
     "6c742467cf024c6baca348a3bcef7275": {
      "model_module": "@jupyter-widgets/controls",
      "model_module_version": "1.4.0",
      "model_name": "DescriptionStyleModel",
      "state": {
       "_model_module_version": "1.4.0",
       "_view_module_version": "1.1.0",
       "description_width": ""
      }
     },
     "6d023b9e544c4a678770123806a7bcd6": {
      "model_module": "@jupyter-widgets/base",
      "model_module_version": "1.1.0",
      "model_name": "LayoutModel",
      "state": {
       "_model_module_version": "1.1.0",
       "_view_module_version": "1.1.0",
       "grid_area": null,
       "grid_auto_columns": null,
       "grid_auto_flow": null,
       "grid_auto_rows": null,
       "grid_column": null,
       "grid_gap": null,
       "grid_row": null,
       "grid_template_areas": null,
       "grid_template_columns": null,
       "grid_template_rows": null
      }
     },
     "6f8837fa0a9a4f46be5714188b5f61f7": {
      "model_module": "@jupyter-widgets/base",
      "model_module_version": "1.1.0",
      "model_name": "LayoutModel",
      "state": {
       "_model_module_version": "1.1.0",
       "_view_module_version": "1.1.0",
       "grid_area": null,
       "grid_auto_columns": null,
       "grid_auto_flow": null,
       "grid_auto_rows": null,
       "grid_column": null,
       "grid_gap": null,
       "grid_row": null,
       "grid_template_areas": null,
       "grid_template_columns": null,
       "grid_template_rows": null
      }
     },
     "7185fcc6b0f046e69dd5362506b5d929": {
      "model_module": "@jupyter-widgets/controls",
      "model_module_version": "1.4.0",
      "model_name": "DescriptionStyleModel",
      "state": {
       "_model_module_version": "1.4.0",
       "_view_module_version": "1.1.0",
       "description_width": ""
      }
     },
     "719f4630cfcb41d9a2d9a2a8c6d9b23c": {
      "model_module": "@jupyter-widgets/controls",
      "model_module_version": "1.4.0",
      "model_name": "TextModel",
      "state": {
       "_model_module_version": "1.4.0",
       "_view_module_version": "1.4.0",
       "description_tooltip": null,
       "layout": "IPY_MODEL_607951e7f52e4a8194996992e58d35ea",
       "style": "IPY_MODEL_ba809594f02c488bb98739bb7805dc1b"
      }
     },
     "764a20cc659c45609d847da71a89679f": {
      "model_module": "@jupyter-widgets/base",
      "model_module_version": "1.1.0",
      "model_name": "LayoutModel",
      "state": {
       "_model_module_version": "1.1.0",
       "_view_module_version": "1.1.0",
       "grid_area": null,
       "grid_auto_columns": null,
       "grid_auto_flow": null,
       "grid_auto_rows": null,
       "grid_column": null,
       "grid_gap": null,
       "grid_row": null,
       "grid_template_areas": null,
       "grid_template_columns": null,
       "grid_template_rows": null
      }
     },
     "7b41291ee32f44e8a662ab2a54b9a69a": {
      "model_module": "@jupyter-widgets/controls",
      "model_module_version": "1.4.0",
      "model_name": "DescriptionStyleModel",
      "state": {
       "_model_module_version": "1.4.0",
       "_view_module_version": "1.1.0",
       "description_width": ""
      }
     },
     "7b81a7d74a7842bcaabf5943afab2456": {
      "model_module": "@jupyter-widgets/base",
      "model_module_version": "1.1.0",
      "model_name": "LayoutModel",
      "state": {
       "_model_module_version": "1.1.0",
       "_view_module_version": "1.1.0",
       "grid_area": null,
       "grid_auto_columns": null,
       "grid_auto_flow": null,
       "grid_auto_rows": null,
       "grid_column": null,
       "grid_gap": null,
       "grid_row": null,
       "grid_template_areas": null,
       "grid_template_columns": null,
       "grid_template_rows": null
      }
     },
     "8f2a80a820b545c9ba789f1c3b0c4fde": {
      "model_module": "@jupyter-widgets/base",
      "model_module_version": "1.1.0",
      "model_name": "LayoutModel",
      "state": {
       "_model_module_version": "1.1.0",
       "_view_module_version": "1.1.0",
       "grid_area": null,
       "grid_auto_columns": null,
       "grid_auto_flow": null,
       "grid_auto_rows": null,
       "grid_column": null,
       "grid_gap": null,
       "grid_row": null,
       "grid_template_areas": null,
       "grid_template_columns": null,
       "grid_template_rows": null
      }
     },
     "912e3dbee61843b0aa25914f721ffc4d": {
      "model_module": "@jupyter-widgets/controls",
      "model_module_version": "1.4.0",
      "model_name": "TextModel",
      "state": {
       "_model_module_version": "1.4.0",
       "_view_module_version": "1.4.0",
       "description_tooltip": null,
       "layout": "IPY_MODEL_cfd8bcd8a23d41b88a3a57e2daadec48",
       "style": "IPY_MODEL_7185fcc6b0f046e69dd5362506b5d929"
      }
     },
     "925bd4a2e83f4554bec8ee96c5285ac4": {
      "model_module": "@jupyter-widgets/base",
      "model_module_version": "1.1.0",
      "model_name": "LayoutModel",
      "state": {
       "_model_module_version": "1.1.0",
       "_view_module_version": "1.1.0",
       "grid_area": null,
       "grid_auto_columns": null,
       "grid_auto_flow": null,
       "grid_auto_rows": null,
       "grid_column": null,
       "grid_gap": null,
       "grid_row": null,
       "grid_template_areas": null,
       "grid_template_columns": null,
       "grid_template_rows": null
      }
     },
     "98970109835944b4ae21f8a4fb97cb0e": {
      "model_module": "@jupyter-widgets/controls",
      "model_module_version": "1.4.0",
      "model_name": "DescriptionStyleModel",
      "state": {
       "_model_module_version": "1.4.0",
       "_view_module_version": "1.1.0",
       "description_width": ""
      }
     },
     "9e2c7a02e4544a8684c9140eefc2be11": {
      "model_module": "@jupyter-widgets/controls",
      "model_module_version": "1.4.0",
      "model_name": "DescriptionStyleModel",
      "state": {
       "_model_module_version": "1.4.0",
       "_view_module_version": "1.1.0",
       "description_width": ""
      }
     },
     "9fe759a3ae574da59f6cb04b2429bdaf": {
      "model_module": "@jupyter-widgets/controls",
      "model_module_version": "1.4.0",
      "model_name": "ButtonStyleModel",
      "state": {
       "_model_module_version": "1.4.0",
       "_view_module_version": "1.1.0"
      }
     },
     "a1732fa7a2e74133bbbc4a4009e09c04": {
      "model_module": "@jupyter-widgets/base",
      "model_module_version": "1.1.0",
      "model_name": "LayoutModel",
      "state": {
       "_model_module_version": "1.1.0",
       "_view_module_version": "1.1.0",
       "grid_area": null,
       "grid_auto_columns": null,
       "grid_auto_flow": null,
       "grid_auto_rows": null,
       "grid_column": null,
       "grid_gap": null,
       "grid_row": null,
       "grid_template_areas": null,
       "grid_template_columns": null,
       "grid_template_rows": null
      }
     },
     "abc048d084b64ea7854e68ccec6ad8e2": {
      "model_module": "@jupyter-widgets/controls",
      "model_module_version": "1.4.0",
      "model_name": "ButtonStyleModel",
      "state": {
       "_model_module_version": "1.4.0",
       "_view_module_version": "1.1.0"
      }
     },
     "b343dd956ccb4574bfdf5f4d27313331": {
      "model_module": "@jupyter-widgets/base",
      "model_module_version": "1.1.0",
      "model_name": "LayoutModel",
      "state": {
       "_model_module_version": "1.1.0",
       "_view_module_version": "1.1.0",
       "grid_area": null,
       "grid_auto_columns": null,
       "grid_auto_flow": null,
       "grid_auto_rows": null,
       "grid_column": null,
       "grid_gap": null,
       "grid_row": null,
       "grid_template_areas": null,
       "grid_template_columns": null,
       "grid_template_rows": null
      }
     },
     "b6a27a130cc34ffc942e85fbb583c595": {
      "model_module": "@jupyter-widgets/controls",
      "model_module_version": "1.4.0",
      "model_name": "ButtonStyleModel",
      "state": {
       "_model_module_version": "1.4.0",
       "_view_module_version": "1.1.0"
      }
     },
     "b703e8291b444e34aa50ce76f92f1de3": {
      "model_module": "@jupyter-widgets/base",
      "model_module_version": "1.1.0",
      "model_name": "LayoutModel",
      "state": {
       "_model_module_version": "1.1.0",
       "_view_module_version": "1.1.0",
       "grid_area": null,
       "grid_auto_columns": null,
       "grid_auto_flow": null,
       "grid_auto_rows": null,
       "grid_column": null,
       "grid_gap": null,
       "grid_row": null,
       "grid_template_areas": null,
       "grid_template_columns": null,
       "grid_template_rows": null
      }
     },
     "b801538259fa49efaed48d093159c583": {
      "model_module": "@jupyter-widgets/controls",
      "model_module_version": "1.4.0",
      "model_name": "DescriptionStyleModel",
      "state": {
       "_model_module_version": "1.4.0",
       "_view_module_version": "1.1.0",
       "description_width": ""
      }
     },
     "b89739662b55457e860c27c1d48a51ad": {
      "model_module": "@jupyter-widgets/base",
      "model_module_version": "1.1.0",
      "model_name": "LayoutModel",
      "state": {
       "_model_module_version": "1.1.0",
       "_view_module_version": "1.1.0",
       "grid_area": null,
       "grid_auto_columns": null,
       "grid_auto_flow": null,
       "grid_auto_rows": null,
       "grid_column": null,
       "grid_gap": null,
       "grid_row": null,
       "grid_template_areas": null,
       "grid_template_columns": null,
       "grid_template_rows": null
      }
     },
     "b8fb3e4bd927459ab14e2c0a8894b45a": {
      "model_module": "@jupyter-widgets/controls",
      "model_module_version": "1.4.0",
      "model_name": "TextModel",
      "state": {
       "_model_module_version": "1.4.0",
       "_view_module_version": "1.4.0",
       "description_tooltip": null,
       "layout": "IPY_MODEL_925bd4a2e83f4554bec8ee96c5285ac4",
       "style": "IPY_MODEL_9e2c7a02e4544a8684c9140eefc2be11"
      }
     },
     "ba809594f02c488bb98739bb7805dc1b": {
      "model_module": "@jupyter-widgets/controls",
      "model_module_version": "1.4.0",
      "model_name": "DescriptionStyleModel",
      "state": {
       "_model_module_version": "1.4.0",
       "_view_module_version": "1.1.0",
       "description_width": ""
      }
     },
     "bb6af8dc2cb649948b5acd2ada560081": {
      "model_module": "@jupyter-widgets/controls",
      "model_module_version": "1.4.0",
      "model_name": "ButtonStyleModel",
      "state": {
       "_model_module_version": "1.4.0",
       "_view_module_version": "1.1.0"
      }
     },
     "bdca3edc6e8844fb91f909267cf2c5ed": {
      "model_module": "@jupyter-widgets/controls",
      "model_module_version": "1.4.0",
      "model_name": "TextModel",
      "state": {
       "_model_module_version": "1.4.0",
       "_view_module_version": "1.4.0",
       "description_tooltip": null,
       "layout": "IPY_MODEL_50b723283dea406bb4716a6f32b55419",
       "style": "IPY_MODEL_e08154a664324522a3132c5f014e4376",
       "value": "The DTC Reporting Specialist is a critical team member of the KEEN Global Direct to Consumer - Optimization & Analytics team. This position will be responsible for building a holistic view of the global DTC business and elevating visibility of KPI’s. The Optimization & Analytics group primarily focuses on digital analytics; working with teams across all channels and regions to provide better insights throughout the organization. This position will be tasked with executing research to better understand conversion rate, acquisition of target audiences, and lifetime value across the global DTC organization. As a data and analytics expert, this position will be responsible for observing, measuring, and identifying key trends in our data. This position will work with DTC global teams in US, Japan, Europe and Canada to gather data and analytics needs that will assist teams growing the DTC business. Through a passion for analytics and business, this position will help prioritize data and analytics requests that will truly move the needle.   Key Responsibilities: Work in partnership with UX to identify bottlenecks in the customer journey by device-type, browser, audience, and geography through tools like Google Analytics, HotJar, direct observation, and surveying technologies Key member in defining workflow and measurement process for newly created CRO (conversion rate optimization) initiatives and integrate the approach into cross-functional teams (Technology, Creative, Merchandising, Operations, UX, and others) Identify new opportunities through data, that will drive established KPI improvements and work with the Global DTC team to prioritize and define these projects Establish a communication strategy to ensure that all cross-functional teams are aware of results and opportunities identified in data ensuring that conflicts are transparently resolved Perform weekly, monthly and quarterly reporting for each region, channel and business unit within the DTC organization. Assist in reporting out to management and divisions the successes and learnings from data analysis projects Transparently define confidence and success metrics to ensure positive and negative results are communicated effectively Assist in the definition of a holistic personalization roadmap and own the measurement, ensuring that each phase identifies a mutually agreed-upon business problem, solution, and financial business case for achieving a 1:1 relationship with our fan-base according to statistical data analysis Leverage learnings from data and apply results to integrated Retail, Catalog, and Digital Wholesale campaign execution Assist in analytics integrations and ensure accurate data collections Produce accurate and timely reporting for key stakeholders Assist in management and development on data processing and the data warehouse Work with regional teams in Japan, Europe and Canada to elevate use of technology and establish regular reporting cadence Knowledge/Skills Required: 1-3 years of industry experience in the areas of eCommerce optimization, business analysis 1-3 years of experience in quantitative analytics Strong written and communication skills with a high degree of technical aptitude and savvy Strong ability to partner with teams globally (both written and verbally) Experience in apparel/footwear industry is a plus Experience in advanced analytical techniques specifically in relation to measuring customer journeys and optimization activities in a digital setting Familiar with data sources and ability to access data in multiple platforms. (SQL, R, Python) Strong understanding of emerging trends in eCommerce, personalization, and digital marketing Must have a fluency in SQL or similar language, competency with statistical packages like R, Matplotlib, experience with scripting languages like Python or Java Must have experience with BI Software like PowerBI, Tableau, Looker or Domo Expert Excel skills Must have experience with Google Analytics Preferred experience with Google Tag Manager, AdWords, and Search Console Preferred experience with AWS including Lambda, Redshift and Data pipeline Physical Requirements: Handle up to 25 lbs  Employee Conduct: It is the responsibility of every employee to contribute to a positive work environment through: mutual trust and respect; personal accountability and integrity; desire for growth and learning opportunities; teamwork; positive, honest and effective communication and professional interactions with co-workers, customers and partners.   Why KEEN: Driven by a passion for life outside, KEEN is a values-led, independently owned brand from Portland, Oregon, that’s on a mission to create original and versatile products, improve lives, and inspire outside adventure. Founded in 2003, KEEN launched a revolution in the footwear industry with the introduction of the Newport adventure sandal, and has donated more than $17 million to non-profit organizations and causes around the world to promote responsible outdoor recreation, including conservation efforts to protect open spaces. KEEN strives to show the world through its products and its actions that a business for good can actually be good for business. By giving back, reducing impact, and activating communities and individuals to protectthe places where we work and play, KEEN puts its values in motion and takes action to leave the world a better place. Learn more at https://www.keenfootwear.com/our-purpose.html   KEEN is an equal opportunity employer, who values an inclusive and diverse community. Qualified candidates of all backgrounds are encouraged to apply and will be considered without regard to race, color, religion, sex, national origin, age, sexual orientation, gender identity, gender expression, veteran status or disability."
      }
     },
     "c994dac26ff94e17ac7cf39306488088": {
      "model_module": "@jupyter-widgets/controls",
      "model_module_version": "1.4.0",
      "model_name": "TextareaModel",
      "state": {
       "_model_module_version": "1.4.0",
       "_view_module_version": "1.4.0",
       "description_tooltip": null,
       "layout": "IPY_MODEL_8f2a80a820b545c9ba789f1c3b0c4fde",
       "style": "IPY_MODEL_7b41291ee32f44e8a662ab2a54b9a69a",
       "value": "fdsf"
      }
     },
     "cb8c3b8058204bcca756bc8de8d53c32": {
      "model_module": "@jupyter-widgets/controls",
      "model_module_version": "1.4.0",
      "model_name": "ButtonStyleModel",
      "state": {
       "_model_module_version": "1.4.0",
       "_view_module_version": "1.1.0"
      }
     },
     "ccdd49fdac264148a65ade9e4953335a": {
      "model_module": "@jupyter-widgets/controls",
      "model_module_version": "1.4.0",
      "model_name": "TextareaModel",
      "state": {
       "_model_module_version": "1.4.0",
       "_view_module_version": "1.4.0",
       "description_tooltip": null,
       "layout": "IPY_MODEL_f9a5da26bf6646b4aa103f995a644e92",
       "style": "IPY_MODEL_6c742467cf024c6baca348a3bcef7275"
      }
     },
     "cfd8bcd8a23d41b88a3a57e2daadec48": {
      "model_module": "@jupyter-widgets/base",
      "model_module_version": "1.1.0",
      "model_name": "LayoutModel",
      "state": {
       "_model_module_version": "1.1.0",
       "_view_module_version": "1.1.0",
       "grid_area": null,
       "grid_auto_columns": null,
       "grid_auto_flow": null,
       "grid_auto_rows": null,
       "grid_column": null,
       "grid_gap": null,
       "grid_row": null,
       "grid_template_areas": null,
       "grid_template_columns": null,
       "grid_template_rows": null
      }
     },
     "d397f85c0040496ea4160cafffcc45c2": {
      "model_module": "@jupyter-widgets/controls",
      "model_module_version": "1.4.0",
      "model_name": "ButtonStyleModel",
      "state": {
       "_model_module_version": "1.4.0",
       "_view_module_version": "1.1.0"
      }
     },
     "d43653299fe042d592a31b515685e897": {
      "model_module": "@jupyter-widgets/controls",
      "model_module_version": "1.4.0",
      "model_name": "ButtonModel",
      "state": {
       "_model_module_version": "1.4.0",
       "_view_module_version": "1.4.0",
       "description": "Submit",
       "layout": "IPY_MODEL_0f8d251b1ef14c87a65c5214ea25845e",
       "style": "IPY_MODEL_9fe759a3ae574da59f6cb04b2429bdaf"
      }
     },
     "de3278a106b74c05827d086e8adc494a": {
      "model_module": "@jupyter-widgets/controls",
      "model_module_version": "1.4.0",
      "model_name": "DescriptionStyleModel",
      "state": {
       "_model_module_version": "1.4.0",
       "_view_module_version": "1.1.0",
       "description_width": ""
      }
     },
     "e08154a664324522a3132c5f014e4376": {
      "model_module": "@jupyter-widgets/controls",
      "model_module_version": "1.4.0",
      "model_name": "DescriptionStyleModel",
      "state": {
       "_model_module_version": "1.4.0",
       "_view_module_version": "1.1.0",
       "description_width": ""
      }
     },
     "e95317ac4cfe4ed8995f224873b848ff": {
      "model_module": "@jupyter-widgets/controls",
      "model_module_version": "1.4.0",
      "model_name": "ButtonModel",
      "state": {
       "_model_module_version": "1.4.0",
       "_view_module_version": "1.4.0",
       "description": "Submit",
       "layout": "IPY_MODEL_23f3dd10d5fa4148a53939aa8dd3dd7d",
       "style": "IPY_MODEL_454497efe9b1463cb32f7f0dc8859e93"
      }
     },
     "ec84b6b423ed4c75977196fe21687eb7": {
      "model_module": "@jupyter-widgets/controls",
      "model_module_version": "1.4.0",
      "model_name": "ButtonModel",
      "state": {
       "_model_module_version": "1.4.0",
       "_view_module_version": "1.4.0",
       "description": "Submit",
       "layout": "IPY_MODEL_6b809e485d5443e6a2ef3b372c3d2574",
       "style": "IPY_MODEL_455b5ac2ada34abf8f35f136a4539413"
      }
     },
     "f56b813e469c46ddb7dcedc46152e5d0": {
      "model_module": "@jupyter-widgets/base",
      "model_module_version": "1.1.0",
      "model_name": "LayoutModel",
      "state": {
       "_model_module_version": "1.1.0",
       "_view_module_version": "1.1.0",
       "grid_area": null,
       "grid_auto_columns": null,
       "grid_auto_flow": null,
       "grid_auto_rows": null,
       "grid_column": null,
       "grid_gap": null,
       "grid_row": null,
       "grid_template_areas": null,
       "grid_template_columns": null,
       "grid_template_rows": null
      }
     },
     "f9a5da26bf6646b4aa103f995a644e92": {
      "model_module": "@jupyter-widgets/base",
      "model_module_version": "1.1.0",
      "model_name": "LayoutModel",
      "state": {
       "_model_module_version": "1.1.0",
       "_view_module_version": "1.1.0",
       "grid_area": null,
       "grid_auto_columns": null,
       "grid_auto_flow": null,
       "grid_auto_rows": null,
       "grid_column": null,
       "grid_gap": null,
       "grid_row": null,
       "grid_template_areas": null,
       "grid_template_columns": null,
       "grid_template_rows": null
      }
     },
     "f9c0274c33734eb68059145066d99ccf": {
      "model_module": "@jupyter-widgets/base",
      "model_module_version": "1.1.0",
      "model_name": "LayoutModel",
      "state": {
       "_model_module_version": "1.1.0",
       "_view_module_version": "1.1.0",
       "grid_area": null,
       "grid_auto_columns": null,
       "grid_auto_flow": null,
       "grid_auto_rows": null,
       "grid_column": null,
       "grid_gap": null,
       "grid_row": null,
       "grid_template_areas": null,
       "grid_template_columns": null,
       "grid_template_rows": null
      }
     },
     "fa95f4160f3241b5b35f11d7ecf44ce1": {
      "model_module": "@jupyter-widgets/controls",
      "model_module_version": "1.4.0",
      "model_name": "DescriptionStyleModel",
      "state": {
       "_model_module_version": "1.4.0",
       "_view_module_version": "1.1.0",
       "description_width": ""
      }
     },
     "fab323ed40604e7eb37dfc8a8bf348d2": {
      "model_module": "@jupyter-widgets/controls",
      "model_module_version": "1.4.0",
      "model_name": "ButtonModel",
      "state": {
       "_model_module_version": "1.4.0",
       "_view_module_version": "1.4.0",
       "description": "Submit",
       "layout": "IPY_MODEL_b343dd956ccb4574bfdf5f4d27313331",
       "style": "IPY_MODEL_cb8c3b8058204bcca756bc8de8d53c32"
      }
     }
    },
    "version_major": 2,
    "version_minor": 0
   }
  }
 },
 "nbformat": 4,
 "nbformat_minor": 2
}
